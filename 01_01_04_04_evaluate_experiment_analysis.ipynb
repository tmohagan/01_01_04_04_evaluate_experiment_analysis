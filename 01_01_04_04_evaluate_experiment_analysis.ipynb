{
 "cells": [
  {
   "cell_type": "markdown",
   "metadata": {},
   "source": [
    "The Sith Lords are concerned that their recruiting slogan, \"Give In to Your Anger,\" isn't very effective. Darth Vader develops an alternative slogan, \"Together We Can Rule the Galaxy.\" They compare the slogans on two groups of 50 captured droids each. In one group, Emperor Palpatine delivers the \"Anger\" slogan. In the other, Darth Vader presents the \"Together\" slogan. 20 droids convert to the Dark Side after hearing Palpatine's slogan, while only 5 droids convert after hearing Vader's. The Sith's data scientist concludes that \"Anger\" is a more effective slogan and should continue to be used."
   ]
  },
  {
   "cell_type": "markdown",
   "metadata": {},
   "source": [
    "This study tells us more about who is persuasive speaker.  Perhaps it had nothing to do with the drones feelings on \"anger\" vs. \"together,\" but instead they were more likely to agree with Palpatine than Vader.  \n",
    "\n",
    "What happens when Palpatine and Vader switch the slogans they are delivering? Are the droids still in favor of the \"Anger\" slogan?  Or do they continue to aree with Palpatine and go with the \"together\" slogan?\n",
    "\n",
    "Furthermore, how much do we know about each group of droids?  Is one group mostly male and the other mostly female? Is one group older and the other younger?  Is one group mostly poor while the other is mostly rich?"
   ]
  },
  {
   "cell_type": "markdown",
   "metadata": {},
   "source": [
    "In the past, the Jedi have had difficulty with public relations. They send two envoys, Jar Jar Binks and Mace Windu, to four friendly and four unfriendly planets respectively, with the goal of promoting favorable feelings toward the Jedi. Upon their return, the envoys learn that Jar Jar was much more effective than Windu: Over 75% of the people surveyed said their attitudes had become more favorable after speaking with Jar Jar, while only 65% said their attitudes had become more favorable after speaking with Windu. This makes Windu angry, because he is sure that he had a better success rate than Jar Jar on every planet. The Jedi choose Jar Jar to be their representative in the future."
   ]
  },
  {
   "cell_type": "markdown",
   "metadata": {},
   "source": [
    "First of all, I would ask Windu to provide some evidence.  I'm sure he feels like he did a great job, but I'm not sure what proof he has of that.\n",
    "\n",
    "It's possible that Binks had overal success on one very large planet and failure on three small planets.  Meaning Binks was only able to convert 25% of the planets he visited.\n",
    "\n",
    "Windu could have had complete success on three small planets while having failure on just one very large planet.  Meaning Windu was able to convert 75% of the planets he visited.  \n",
    "\n",
    "So it is posible that Windu was able to have more successful visits, but Jar Jar actually converted more people.  "
   ]
  },
  {
   "cell_type": "markdown",
   "metadata": {},
   "source": [
    "A company with work sites in five different countries has sent you data on employee satisfaction rates for workers in Human Resources and workers in Information Technology. \n",
    "\n",
    "Most HR workers are concentrated in three of the countries, while IT workers are equally distributed across worksites. \n",
    "\n",
    "The company requests a report on satisfaction for each job type. You calculate average job satisfaction for HR and for IT and present the report."
   ]
  },
  {
   "cell_type": "markdown",
   "metadata": {},
   "source": [
    "We have to consider the three countires where HR are concentrated could be unsatisfying countires while the other two countries are satisfying.  In which case, it is going to make it seem like the role of HR is less satisfying than the role of IT.  \n",
    "\n",
    "If we want to to compare job roles instead of countires, then we should just look at the 3 countires that have equal parts HR and IT."
   ]
  },
  {
   "cell_type": "markdown",
   "metadata": {},
   "source": [
    "When people install the Happy Days Fitness Tracker app, they are asked to \"opt in\" to a data collection scheme where their level of physical activity data is automatically sent to the company for product research purposes. During your interview with the company, they tell you that the app is very effective because after installing the app, the data show that people's activity levels rise steadily."
   ]
  },
  {
   "cell_type": "markdown",
   "metadata": {},
   "source": [
    "The data does NOT show that people's activity levels rise after installing the app.  We do not have data about what happens after people install the app.  We only have data about users who download the app AND opt-in.  \n",
    "\n",
    "It would not be suprising to learn that only people who are already motiviated take the extra effort to opt-in.  If those people are already motivated, then that means we are only tracking the activity of the most motiviated users.  Which, of course will show positive results.  \n",
    "\n",
    "For all we know 100 people downloaded the app.  Maybe 1 person opted-in and saw an increase in activity levels.  While perhaps the other 99 people expereinced no change.  "
   ]
  },
  {
   "cell_type": "markdown",
   "metadata": {},
   "source": [
    "To prevent cheating, a teacher writes three versions of a test. She stacks the three versions together, first all copies of Version A, then all copies of Version B, then all copies of Version C. As students arrive for the exam, each student takes a test. When grading the test, the teacher finds that students who took Version B scored higher than students who took either Version A or Version C. She concludes from this that Version B is easier, and discards it."
   ]
  },
  {
   "cell_type": "markdown",
   "metadata": {},
   "source": [
    "That is one way to intrepret the results.  But we could also come to this conclusion:  The majority of the smartest students received Version B.  \n",
    "\n",
    "We need to look which version of the test resulted in the biggest increase in a students overall grade.  \n",
    "\n",
    "For instance, if a bunch of A students got A's on version B, then that is not suprising.  \n",
    "\n",
    "If a bunch of F students get A's on Version B, then yes, Version B is problably the easiest.  "
   ]
  }
 ],
 "metadata": {
  "kernelspec": {
   "display_name": "Python 3",
   "language": "python",
   "name": "python3"
  },
  "language_info": {
   "codemirror_mode": {
    "name": "ipython",
    "version": 3
   },
   "file_extension": ".py",
   "mimetype": "text/x-python",
   "name": "python",
   "nbconvert_exporter": "python",
   "pygments_lexer": "ipython3",
   "version": "3.6.5"
  }
 },
 "nbformat": 4,
 "nbformat_minor": 2
}
